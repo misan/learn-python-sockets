{
 "cells": [
  {
   "cell_type": "markdown",
   "id": "9a6a4563-bd4c-4c39-9762-61d269a511c9",
   "metadata": {},
   "source": [
    "*Sockets in Python*"
   ]
  },
  {
   "cell_type": "code",
   "execution_count": 1,
   "id": "024493b5-22c8-40ff-8645-8d733c8f4415",
   "metadata": {},
   "outputs": [],
   "source": [
    "from socket import *"
   ]
  },
  {
   "cell_type": "markdown",
   "id": "77944474-1e8b-4b9d-b611-a95a7deb7d59",
   "metadata": {
    "tags": []
   },
   "source": [
    "Now create a TCP socket and connect it to http://www.disca.upv.es"
   ]
  },
  {
   "cell_type": "code",
   "execution_count": 2,
   "id": "9441f628-bcf7-4b0e-b6b4-0b95fa15cabd",
   "metadata": {},
   "outputs": [],
   "source": [
    "s = socket(AF_INET, SOCK_STREAM)       # a new TCP socket is created here\n",
    "s.connect(('www.disca.upv.es', 80))    # please note connect receives a tuple of hostname and port number"
   ]
  },
  {
   "cell_type": "markdown",
   "id": "9912a5e9-a50a-4c4f-a30b-14998a690c26",
   "metadata": {},
   "source": [
    "Now let us send a GET request"
   ]
  },
  {
   "cell_type": "code",
   "execution_count": 3,
   "id": "7576d8cd-b90f-40e0-9b0d-a8f7d23d6141",
   "metadata": {},
   "outputs": [
    {
     "data": {
      "text/plain": [
       "18"
      ]
     },
     "execution_count": 3,
     "metadata": {},
     "output_type": "execute_result"
    }
   ],
   "source": [
    "s.send(\"GET / HTTP/1.0\\r\\n\\r\\n\".encode())"
   ]
  },
  {
   "cell_type": "markdown",
   "id": "9f5f74cb-59ce-4220-854c-62c22b1f6fc3",
   "metadata": {},
   "source": [
    "That was the number of bytes sent, now let us read something ..."
   ]
  },
  {
   "cell_type": "code",
   "execution_count": 4,
   "id": "8d6b8bd7-2120-48c8-a2ad-a862e3b56dd4",
   "metadata": {},
   "outputs": [
    {
     "name": "stdout",
     "output_type": "stream",
     "text": [
      "HTTP/1.1 302 Found\n",
      "Content-Type: text/html; charset=UTF-8\n",
      "Location: http://www.upv.es/entidades/DISCA\n",
      "Server: Microsoft-IIS/8.5\n",
      "X-Powered-By: PHP/7.3.14\n",
      "X-Powered-By: ASP.NET\n",
      "Date: Sat, 21 Aug 2021 11:10:20 GMT\n",
      "Connection: close\n",
      "Content-Length: 167\n",
      "\n",
      "<head><title>Documento movido</title></head>\n",
      "<body><h1>Objeto movido</h1>Este documento puede encontrarse aquÃ­ <a HREF=\"http://www.upv.es/entidades/DISCA\"></a></body>\n"
     ]
    }
   ],
   "source": [
    "print(s.recv(10000).decode())"
   ]
  },
  {
   "cell_type": "markdown",
   "id": "24c6821c-d000-4be6-9a9b-0a1c6851cdb1",
   "metadata": {},
   "source": [
    "**Good!**, now let us close the socket to finish it up."
   ]
  },
  {
   "cell_type": "code",
   "execution_count": 5,
   "id": "3904fea1-1b6c-42d3-8199-97dbcc6a4c37",
   "metadata": {},
   "outputs": [],
   "source": [
    "s.close()"
   ]
  },
  {
   "cell_type": "raw",
   "id": "4ef8aceb-6383-4eeb-9dce-44c4eb6d295d",
   "metadata": {
    "tags": []
   },
   "source": []
  }
 ],
 "metadata": {
  "kernelspec": {
   "display_name": "Python 3 (ipykernel)",
   "language": "python",
   "name": "python3"
  },
  "language_info": {
   "codemirror_mode": {
    "name": "ipython",
    "version": 3
   },
   "file_extension": ".py",
   "mimetype": "text/x-python",
   "name": "python",
   "nbconvert_exporter": "python",
   "pygments_lexer": "ipython3",
   "version": "3.9.6"
  }
 },
 "nbformat": 4,
 "nbformat_minor": 5
}
