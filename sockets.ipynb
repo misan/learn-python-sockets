{
 "cells": [
  {
   "cell_type": "markdown",
   "id": "9a6a4563-bd4c-4c39-9762-61d269a511c9",
   "metadata": {
    "tags": []
   },
   "source": [
    "# Sockets in Python\n",
    "Some basic first example of how to do a get request to a HTTP web server (port 80)"
   ]
  },
  {
   "cell_type": "code",
   "execution_count": 1,
   "id": "024493b5-22c8-40ff-8645-8d733c8f4415",
   "metadata": {},
   "outputs": [],
   "source": [
    "from socket import *"
   ]
  },
  {
   "cell_type": "markdown",
   "id": "77944474-1e8b-4b9d-b611-a95a7deb7d59",
   "metadata": {
    "tags": []
   },
   "source": [
    "Now create a TCP socket and connect it to http://www.disca.upv.es"
   ]
  },
  {
   "cell_type": "code",
   "execution_count": 2,
   "id": "9441f628-bcf7-4b0e-b6b4-0b95fa15cabd",
   "metadata": {},
   "outputs": [],
   "source": [
    "s = socket(AF_INET, SOCK_STREAM)       # a new TCP socket is created here\n",
    "s.connect(('www.disca.upv.es', 80))    # please note connect receives a tuple of hostname and port number"
   ]
  },
  {
   "cell_type": "markdown",
   "id": "9912a5e9-a50a-4c4f-a30b-14998a690c26",
   "metadata": {},
   "source": [
    "Now let us send a GET request"
   ]
  },
  {
   "cell_type": "code",
   "execution_count": 3,
   "id": "7576d8cd-b90f-40e0-9b0d-a8f7d23d6141",
   "metadata": {},
   "outputs": [
    {
     "data": {
      "text/plain": [
       "18"
      ]
     },
     "execution_count": 3,
     "metadata": {},
     "output_type": "execute_result"
    }
   ],
   "source": [
    "s.send(\"GET / HTTP/1.0\\r\\n\\r\\n\".encode(\"utf-8\"))"
   ]
  },
  {
   "cell_type": "markdown",
   "id": "9f5f74cb-59ce-4220-854c-62c22b1f6fc3",
   "metadata": {},
   "source": [
    "That was the number of bytes sent, now let us read something ..."
   ]
  },
  {
   "cell_type": "code",
   "execution_count": 4,
   "id": "8d6b8bd7-2120-48c8-a2ad-a862e3b56dd4",
   "metadata": {},
   "outputs": [
    {
     "name": "stdout",
     "output_type": "stream",
     "text": [
      "HTTP/1.1 302 Found\n",
      "Content-Type: text/html; charset=UTF-8\n",
      "Location: http://www.upv.es/entidades/DISCA\n",
      "Server: Microsoft-IIS/8.5\n",
      "X-Powered-By: PHP/7.3.14\n",
      "X-Powered-By: ASP.NET\n",
      "Date: Sat, 28 Aug 2021 17:06:29 GMT\n",
      "Connection: close\n",
      "Content-Length: 167\n",
      "\n",
      "<head><title>Documento movido</title></head>\n",
      "<body><h1>Objeto movido</h1>Este documento puede encontrarse aquí <a HREF=\"http://www.upv.es/entidades/DISCA\"></a></body>\n"
     ]
    }
   ],
   "source": [
    "print(s.recv(10000).decode(\"utf-8\"))"
   ]
  },
  {
   "cell_type": "markdown",
   "id": "24c6821c-d000-4be6-9a9b-0a1c6851cdb1",
   "metadata": {},
   "source": [
    "**Good!**, now let us close the socket to finish it up."
   ]
  },
  {
   "cell_type": "code",
   "execution_count": 5,
   "id": "3904fea1-1b6c-42d3-8199-97dbcc6a4c37",
   "metadata": {},
   "outputs": [],
   "source": [
    "s.close()"
   ]
  },
  {
   "cell_type": "markdown",
   "id": "4703c554-babf-4ef0-93b6-141276b73153",
   "metadata": {
    "tags": []
   },
   "source": [
    "Closing the socket releases any resources allocated for it. Close operation is detected on the other end (server) too.\n",
    "# Let us try with a local server"
   ]
  },
  {
   "cell_type": "code",
   "execution_count": 6,
   "id": "4054fcd1-304a-4388-8925-6b7d4e29814b",
   "metadata": {},
   "outputs": [],
   "source": [
    "ss = socket(AF_INET, SOCK_STREAM)   # a new TCP socket is created, this time for a server\n",
    "ss.bind(('',12345))                 # this tells the server to listen at any local address ('') and port 12345"
   ]
  },
  {
   "cell_type": "code",
   "execution_count": 7,
   "id": "f37e9ca5-95c2-402e-8069-f0ba7e2e5a0b",
   "metadata": {},
   "outputs": [],
   "source": [
    "ss.listen(5)                        # queue for up to five clients, your computer might ask for permission to use the netwrok"
   ]
  },
  {
   "cell_type": "code",
   "execution_count": 8,
   "id": "270f636d-28b1-45cc-97af-13099884379b",
   "metadata": {},
   "outputs": [],
   "source": [
    "s,dir = ss.accept()                     # s is a new socket, that will be created ONCE a client connects to this server"
   ]
  },
  {
   "cell_type": "markdown",
   "id": "5254110d-1a2a-4a31-9083-6a88514a9b19",
   "metadata": {},
   "source": [
    "This line above might sit there forever, it BLOCKS the program execution till a client CONNECTS to our server"
   ]
  },
  {
   "cell_type": "code",
   "execution_count": 9,
   "id": "cc87c06e-3fbd-41ff-8d44-dc2102dc7740",
   "metadata": {},
   "outputs": [
    {
     "name": "stdout",
     "output_type": "stream",
     "text": [
      "GET / HTTP/1.1\n",
      "Host: localhost:12345\n",
      "Connection: keep-alive\n",
      "sec-ch-ua: \"Chromium\";v=\"92\", \" Not A;Brand\";v=\"99\", \"Google Chrome\";v=\"92\"\n",
      "sec-ch-ua-mobile: ?0\n",
      "DNT: 1\n",
      "Upgrade-Insecure-Requests: 1\n",
      "User-Agent: Mozilla/5.0 (Windows NT 10.0; Win64; x64) AppleWebKit/537.36 (KHTML, like Gecko) Chrome/92.0.4515.159 Safari/537.36\n",
      "Accept: text/html,application/xhtml+xml,application/xml;q=0.9,image/avif,image/webp,image/apng,*/*;q=0.8,application/signed-exchange;v=b3;q=0.9\n",
      "Sec-Fetch-Site: none\n",
      "Sec-Fetch-Mode: navigate\n",
      "Sec-Fetch-User: ?1\n",
      "Sec-Fetch-Dest: document\n",
      "Accept-Encoding: gzip, deflate, br\n",
      "Accept-Language: es-US,es;q=0.9,en-US;q=0.8,en;q=0.7,ca-ES;q=0.6,ca;q=0.5,es-419;q=0.4\n",
      "Cookie: _xsrf=2|7e5e1fc4|34b27a79ad98f2f661ffc07a7882f39e|1629454849; username-localhost-8888=\"2|1:0|10:1630170403|23:username-localhost-8888|44:MWE0NGJiZGE0ZTM2NDUwYzk4MDI0ZTcwZmY3NmE5MzQ=|ad2b7477922e418e2df149f00a24690c9ce09f745cf8d3c6403b9ec69f7105d4\"\n",
      "sec-gpc: 1\n",
      "\n",
      "\n"
     ]
    }
   ],
   "source": [
    "print(s.recv(1000).decode()) # it will print the request your browser sends when you visit http://localhost:12345\n",
    "s.sendall(\"HTTP/1.0 200 Ok\\r\\n\\r\\n<html><body><h1>Hello World!</h1></body></html>\".encode())\n",
    "s.close() # once data is sent, just close the server"
   ]
  },
  {
   "cell_type": "code",
   "execution_count": 10,
   "id": "d49c8f18-f66e-4189-866b-fb06e0009252",
   "metadata": {},
   "outputs": [
    {
     "data": {
      "text/plain": [
       "('127.0.0.1', 65068)"
      ]
     },
     "execution_count": 10,
     "metadata": {},
     "output_type": "execute_result"
    }
   ],
   "source": [
    "dir\n"
   ]
  },
  {
   "cell_type": "markdown",
   "id": "4d6d5f8b-99cc-47a9-be36-2a2c4bcbcba0",
   "metadata": {},
   "source": [
    "That was where the connection from your browser came from"
   ]
  }
 ],
 "metadata": {
  "kernelspec": {
   "display_name": "Python 3 (ipykernel)",
   "language": "python",
   "name": "python3"
  },
  "language_info": {
   "codemirror_mode": {
    "name": "ipython",
    "version": 3
   },
   "file_extension": ".py",
   "mimetype": "text/x-python",
   "name": "python",
   "nbconvert_exporter": "python",
   "pygments_lexer": "ipython3",
   "version": "3.9.6"
  }
 },
 "nbformat": 4,
 "nbformat_minor": 5
}
