{
 "cells": [
  {
   "cell_type": "markdown",
   "id": "24b9588f-2b36-4844-8850-95415cabaf94",
   "metadata": {},
   "source": [
    "# UDP Sockets\n",
    "They are simpler and faster than TCP, but delivery is not guaranteed!!"
   ]
  },
  {
   "cell_type": "code",
   "execution_count": 1,
   "id": "bf05d4b9-2f2a-4455-b30e-7cc00dd91be4",
   "metadata": {},
   "outputs": [],
   "source": [
    "from socket import *\n",
    "s = socket(AF_INET, SOCK_DGRAM)       # a new UDP socket is created here\n",
    "dir = (('8.8.8.8', 12345))            # we prepare a destination address and port for a send operation later"
   ]
  },
  {
   "cell_type": "code",
   "execution_count": 2,
   "id": "f470b7f1-56a0-4f45-b19f-1c16ea3ffa06",
   "metadata": {},
   "outputs": [
    {
     "data": {
      "text/plain": [
       "12"
      ]
     },
     "execution_count": 2,
     "metadata": {},
     "output_type": "execute_result"
    }
   ],
   "source": [
    "s.sendto('Hello World!'.encode(), dir)         # we expect no response but we send it anyway"
   ]
  },
  {
   "cell_type": "markdown",
   "id": "e75ccca0-14cc-424c-ab7c-9672e70d0a04",
   "metadata": {},
   "source": [
    "And these are the number of bytes sent.\n",
    "But if we send data to an unsuspecting computer on the Internet, chances are we will get nothing in return. So we are going to need to pack together in our sample code both a CLIENT (sender) and a SERVER (replier). But once the server attempts to received data, program execution will block, so we are going to run the server within a different thread."
   ]
  },
  {
   "cell_type": "code",
   "execution_count": 3,
   "id": "3f7b2ef1-4bb8-4c29-a4cc-9558774ff1b5",
   "metadata": {},
   "outputs": [],
   "source": [
    "def UDPserver():\n",
    "    ss = socket(AF_INET, SOCK_DGRAM)\n",
    "    ss.bind(('',12345)) \n",
    "    data, dir = ss.recvfrom(1000)\n",
    "    print(data.decode(), dir)\n",
    "    ss.close()"
   ]
  },
  {
   "cell_type": "markdown",
   "id": "2f9a8739-a5e0-455e-80d6-05da5357195d",
   "metadata": {},
   "source": [
    "And now let us write the code for the client to send another UDP message, but this time to our own server. And do not forget to start the server as another thread too!\n"
   ]
  },
  {
   "cell_type": "code",
   "execution_count": 4,
   "id": "0acfaced-5744-4fed-8b9b-3a797e4f0bd6",
   "metadata": {},
   "outputs": [],
   "source": [
    "import threading\n",
    "\n",
    "t = threading.Thread(target=UDPserver, args=())  # this prepares UDPserver function to run as an independent thread\n",
    "t.start()                                        # and this is what actually starts the thread created above"
   ]
  },
  {
   "cell_type": "markdown",
   "id": "c2932657-41b9-4716-ad4e-228e84b35afb",
   "metadata": {},
   "source": [
    "And now that the server is up and running, let us send our message to it ...\n"
   ]
  },
  {
   "cell_type": "code",
   "execution_count": 5,
   "id": "0db36339-dac3-4bda-bb82-947853c73ffd",
   "metadata": {},
   "outputs": [
    {
     "data": {
      "text/plain": [
       "15"
      ]
     },
     "execution_count": 5,
     "metadata": {},
     "output_type": "execute_result"
    },
    {
     "name": "stdout",
     "output_type": "stream",
     "text": [
      "Hello computer! ('127.0.0.1', 56288)\n"
     ]
    }
   ],
   "source": [
    "s.sendto('Hello computer!'.encode(), ('127.0.0.1', 12345)) # please note the special localhost IP address 127.0.0.1"
   ]
  },
  {
   "cell_type": "markdown",
   "id": "653a17d6-645c-4d3e-bf84-c91be52e909c",
   "metadata": {},
   "source": [
    "\n",
    "You may not see the message sent unless you are restarting the kernel and running all the cells"
   ]
  }
 ],
 "metadata": {
  "kernelspec": {
   "display_name": "Python 3 (ipykernel)",
   "language": "python",
   "name": "python3"
  },
  "language_info": {
   "codemirror_mode": {
    "name": "ipython",
    "version": 3
   },
   "file_extension": ".py",
   "mimetype": "text/x-python",
   "name": "python",
   "nbconvert_exporter": "python",
   "pygments_lexer": "ipython3",
   "version": "3.9.6"
  }
 },
 "nbformat": 4,
 "nbformat_minor": 5
}
